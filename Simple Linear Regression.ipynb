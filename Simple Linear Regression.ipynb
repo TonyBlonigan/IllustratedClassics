{
 "cells": [
  {
   "cell_type": "markdown",
   "metadata": {},
   "source": [
    "Contents: \n",
    "1. Equations related to simple linear regression\n",
    "2. How to efficiently execute them in Python"
   ]
  },
  {
   "cell_type": "markdown",
   "metadata": {},
   "source": [
    "\n",
    "# Simple Linear Regression\n",
    "\n",
    "$$Y = \\beta_0 + \\beta_1 X$$\n",
    "\n",
    "### Create Data With Linear Relationship"
   ]
  },
  {
   "cell_type": "code",
   "execution_count": 1,
   "metadata": {},
   "outputs": [
    {
     "data": {
      "text/plain": [
       "[<matplotlib.lines.Line2D at 0x878d4e0>]"
      ]
     },
     "execution_count": 1,
     "metadata": {},
     "output_type": "execute_result"
    },
    {
     "data": {
      "image/png": "[encoded data removed]",
      "text/plain": [
       "<matplotlib.figure.Figure at 0x51f4b00>"
      ]
     },
     "metadata": {},
     "output_type": "display_data"
    }
   ],
   "source": [
    "import numpy as np\n",
    "import math\n",
    "\n",
    "# create the data\n",
    "x = np.arange(1,100+1)\n",
    "e = np.random.normal(0,17, 100) #create random noise\n",
    "slope = 1.75\n",
    "intercept = 40\n",
    "y = intercept + x * slope + e\n",
    "\n",
    "import matplotlib.pyplot as pp\n",
    "%matplotlib inline\n",
    "pp.plot(x, y, 'o')"
   ]
  },
  {
   "cell_type": "markdown",
   "metadata": {},
   "source": [
    "*Also see statsmodels.regression.linear_model.OLS for another method of OLS in Python*"
   ]
  },
  {
   "cell_type": "markdown",
   "metadata": {},
   "source": [
    "# Creating the Model From Scratch\n",
    "\n",
    "### Defineing the Slope\n",
    "$$\\hat{\\beta_1} = \\frac{\\sum_{i=1}^{n}(x_i - \\bar{x})(y_i - \\bar{y})}\n",
    "{\\sum_{i=1}^{n}(x_i - \\bar{x})^2}$$"
   ]
  },
  {
   "cell_type": "code",
   "execution_count": 2,
   "metadata": {
    "scrolled": true
   },
   "outputs": [
    {
     "name": "stdout",
     "output_type": "stream",
     "text": [
      "beta1: 1.7780515949\n",
      "xbar:  50.5\n",
      "ybar:  124.957357552\n"
     ]
    },
    {
     "data": {
      "text/plain": [
       "[<matplotlib.lines.Line2D at 0x8734a58>]"
      ]
     },
     "execution_count": 2,
     "metadata": {},
     "output_type": "execute_result"
    },
    {
     "data": {
      "image/png": "[encoded data removed]",
      "text/plain": [
       "<matplotlib.figure.Figure at 0x873d1d0>"
      ]
     },
     "metadata": {},
     "output_type": "display_data"
    }
   ],
   "source": [
    "#x = np.arange(1,100+1)\n",
    "#y = np.arange(1,200,2)\n",
    "\n",
    "#calculate the slope\n",
    "xbar = np.mean(x)\n",
    "ybar = np.mean(y)\n",
    "beta1 = sum((x - xbar) * (y - ybar)) / sum(((x - xbar)**2))\n",
    "\n",
    "#print results\n",
    "print('beta1:', beta1)\n",
    "print('xbar: ', xbar)\n",
    "print('ybar: ', ybar)\n",
    "\n",
    "#plot the slope\n",
    "pp.plot(x,y, 'o')\n",
    "pp.plot(x,x*slope)"
   ]
  },
  {
   "cell_type": "markdown",
   "metadata": {},
   "source": [
    "The slope is going the right direction, but it consistently under-estimates the acutal values because we still need to adjust it vertically to get a better estimate. We will do this using the intercept."
   ]
  },
  {
   "cell_type": "markdown",
   "metadata": {},
   "source": [
    "### Defining the Intercept\n",
    "$$\\hat{\\beta}_0 = \\bar{y} - \\hat{\\beta_1} \\bar{x}$$"
   ]
  },
  {
   "cell_type": "code",
   "execution_count": 3,
   "metadata": {},
   "outputs": [
    {
     "name": "stdout",
     "output_type": "stream",
     "text": [
      "Estimate:  35.1657520094\n",
      "Actual:  40\n"
     ]
    },
    {
     "data": {
      "text/plain": [
       "[<matplotlib.lines.Line2D at 0x8755d68>]"
      ]
     },
     "execution_count": 3,
     "metadata": {},
     "output_type": "execute_result"
    },
    {
     "data": {
      "image/png": "[encoded data removed]",
      "text/plain": [
       "<matplotlib.figure.Figure at 0x51f4160>"
      ]
     },
     "metadata": {},
     "output_type": "display_data"
    }
   ],
   "source": [
    "#calculate intercept\n",
    "beta0 = ybar - beta1 * xbar\n",
    "\n",
    "#print results\n",
    "print('Estimate: ', beta0)\n",
    "print('Actual: ', intercept)\n",
    "\n",
    "#plot the intercept\n",
    "pp.plot(x,y, 'o')\n",
    "pp.plot([beta0] * len(x))"
   ]
  },
  {
   "cell_type": "markdown",
   "metadata": {},
   "source": [
    "### Final Estimates\n",
    "$$\\hat{y} = \\beta_0 + \\beta_1 x$$\n",
    "\n",
    "The final estimates are essentially the result of adding together the two orange lines above: slope + intercept."
   ]
  },
  {
   "cell_type": "code",
   "execution_count": 4,
   "metadata": {},
   "outputs": [
    {
     "data": {
      "text/plain": [
       "[<matplotlib.lines.Line2D at 0x8ae52b0>]"
      ]
     },
     "execution_count": 4,
     "metadata": {},
     "output_type": "execute_result"
    },
    {
     "data": {
      "image/png": "[encoded data removed]",
      "text/plain": [
       "<matplotlib.figure.Figure at 0x8ae54a8>"
      ]
     },
     "metadata": {},
     "output_type": "display_data"
    }
   ],
   "source": [
    "#calculate the fitted values\n",
    "yhat = beta0 + beta1 * x\n",
    "\n",
    "#plot the fitted values\n",
    "pp.plot(x,y, 'o')\n",
    "pp.plot(x,yhat)"
   ]
  },
  {
   "cell_type": "markdown",
   "metadata": {},
   "source": [
    "### Calculate RSS\n",
    "(residual sum of squares)\n",
    "$$\\sum_{i=1}^{n} (\\hat{y_i} - y_i)^2$$"
   ]
  },
  {
   "cell_type": "code",
   "execution_count": 5,
   "metadata": {},
   "outputs": [
    {
     "name": "stdout",
     "output_type": "stream",
     "text": [
      "RSS:  34133\n"
     ]
    }
   ],
   "source": [
    "#calculate the residual sum of squares\n",
    "rss = sum((yhat - y)**2)\n",
    "\n",
    "print('RSS: ', int(round(rss)))"
   ]
  },
  {
   "cell_type": "markdown",
   "metadata": {},
   "source": [
    "## Evaluating the Model\n",
    "### Standard Error of Mean \n",
    "\n",
    "$$SE(\\hat{\\mu}) = \\frac{\\sigma^2}{n}$$"
   ]
  },
  {
   "cell_type": "code",
   "execution_count": 6,
   "metadata": {},
   "outputs": [
    {
     "data": {
      "text/plain": [
       "29.756245891234265"
      ]
     },
     "execution_count": 6,
     "metadata": {},
     "output_type": "execute_result"
    }
   ],
   "source": [
    "#calculate standard error of the mean\n",
    "sigma = np.std(y) #equivalent to np.std(yhat)\n",
    "n = len(y)\n",
    "SEmu = sigma**2 / n\n",
    "SEmu"
   ]
  },
  {
   "cell_type": "markdown",
   "metadata": {},
   "source": [
    "### Standard Error of Intercept\n",
    "\n",
    "Let\n",
    "$$\\sigma^2 = Residual Standard Error = RSE = \\sqrt{RSS / (n - 2)}$$\n",
    "\n",
    "Then, the standard error of the intercept equals\n",
    "$$SE(\\hat{\\beta_0}) = \\sigma^2 [\\frac{1}{n} + \\frac{\\bar{x}^2}{\\sum_{i=1}^{n}(x_i - \\bar{x})^2}]$$"
   ]
  },
  {
   "cell_type": "code",
   "execution_count": 20,
   "metadata": {},
   "outputs": [
    {
     "data": {
      "text/plain": [
       "0.0076551405466039517"
      ]
     },
     "execution_count": 20,
     "metadata": {},
     "output_type": "execute_result"
    }
   ],
   "source": [
    "#calculate standard error of the intercept\n",
    "sigma = math.sqrt(np.std(yhat - y)/(n-2))\n",
    "SEbeta0 = sigma**2 * (1/n + xbar**2 / sum( (x - xbar)**2 ))\n",
    "\n",
    "SEbeta0\n"
   ]
  },
  {
   "cell_type": "markdown",
   "metadata": {},
   "source": [
    "### Standard Error of Slope\n",
    "\n",
    "Let\n",
    "$$\\sigma^2 = RSS = \\sum_{i=1}^{n} (\\hat{y_i} - y_i)^2$$\n",
    "\n",
    "Then, the standard error of the slope equals\n",
    "$$SE(\\hat{\\beta_1}) = \\frac{\\sigma^2} {\\sum_{i=1}^{n}(x_i - \\bar{x})^2}$$"
   ]
  },
  {
   "cell_type": "markdown",
   "metadata": {},
   "source": [
    "# Efficient Modeling Using sklearn"
   ]
  },
  {
   "cell_type": "code",
   "execution_count": 8,
   "metadata": {},
   "outputs": [
    {
     "name": "stdout",
     "output_type": "stream",
     "text": [
      "Actuals:   40    1.75\n",
      "Estimates: 35    1.78\n"
     ]
    },
    {
     "data": {
      "image/png": "[encoded data removed]",
      "text/plain": [
       "<matplotlib.figure.Figure at 0x9bcada0>"
      ]
     },
     "metadata": {},
     "output_type": "display_data"
    }
   ],
   "source": [
    "#sklearn linear_model is faster, but doesn't provide good summary output\n",
    "from sklearn import linear_model\n",
    "\n",
    "#create a linear regression object\n",
    "lm = linear_model.LinearRegression()\n",
    "\n",
    "#create the model\n",
    "fit = lm.fit(x[:, np.newaxis], y) #you have to add a new axis because lm.fit requires a 2d x argument\n",
    "\n",
    "#create estimates\n",
    "yhat = fit.predict(x[:, np.newaxis])\n",
    "\n",
    "\n",
    "#plot the real and estimated values\n",
    "pp.plot(x,y, 'o')\n",
    "pp.plot(x, yhat)\n",
    "\n",
    "#print some summary stats\n",
    "print('Actuals:  ', intercept, '  ', slope)\n",
    "print('Estimates:', int(round(fit.intercept_)), '  ', round(fit.coef_[0],2))"
   ]
  },
  {
   "cell_type": "markdown",
   "metadata": {},
   "source": [
    "### Calculate RSS"
   ]
  },
  {
   "cell_type": "code",
   "execution_count": 9,
   "metadata": {},
   "outputs": [
    {
     "data": {
      "text/plain": [
       "34133.181629609804"
      ]
     },
     "execution_count": 9,
     "metadata": {},
     "output_type": "execute_result"
    }
   ],
   "source": [
    "sum((yhat - y)**2)"
   ]
  }
 ],
 "metadata": {
  "kernelspec": {
   "display_name": "Python 3",
   "language": "python",
   "name": "python3"
  },
  "language_info": {
   "codemirror_mode": {
    "name": "ipython",
    "version": 3
   },
   "file_extension": ".py",
   "mimetype": "text/x-python",
   "name": "python",
   "nbconvert_exporter": "python",
   "pygments_lexer": "ipython3",
   "version": "3.6.1"
  }
 },
 "nbformat": 4,
 "nbformat_minor": 2
}
